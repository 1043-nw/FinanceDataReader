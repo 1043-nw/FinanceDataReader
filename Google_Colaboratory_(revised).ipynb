{
  "nbformat": 4,
  "nbformat_minor": 0,
  "metadata": {
    "colab": {
      "name": "Google Colaboratory (revised).ipynb",
      "version": "0.3.2",
      "provenance": [],
      "collapsed_sections": []
    },
    "kernelspec": {
      "name": "python3",
      "display_name": "Python 3"
    },
    "accelerator": "GPU"
  },
  "cells": [
    {
      "cell_type": "markdown",
      "metadata": {
        "id": "view-in-github",
        "colab_type": "text"
      },
      "source": [
        "[View in Colaboratory](https://colab.research.google.com/github/FinanceData/FinanceDataReader/blob/master/Google_Colaboratory_(revised).ipynb)"
      ]
    },
    {
      "metadata": {
        "id": "sbTOLTwnDyBu",
        "colab_type": "text"
      },
      "cell_type": "markdown",
      "source": [
        "# 구글 콜래보래토리 소개 (revised)\n",
        "\n",
        "## \"Colaboratory = Google Drive + Juputer Noteook\"\n",
        "\n",
        "![Google Colaboratory](https://i.imgur.com/4ERt0Sm.png =640x)\n",
        "\n",
        "\n",
        "※ 이 문서의 과거 버전(2017.10)은 아래와 같습니다 <br>\n",
        "https://colab.research.google.com/drive/0B2Op0f7i-jUEem1NUWVaRDlwVVE\n",
        "\n",
        "\n",
        "### 2018 FinanceData.KR"
      ]
    },
    {
      "metadata": {
        "id": "UQaAURR8EnQT",
        "colab_type": "text"
      },
      "cell_type": "markdown",
      "source": [
        "# Google Colaboratory\n",
        "구글이 내부에서 사용하던 주피터 노트북 구글 커스텀 버전 (2017년 10월 공개)\n",
        "\n",
        "한줄로 요약하자면, \n",
        "\n",
        "## \"Colaboratory = Google Drive + Juputer Noteook\"\n",
        "\n"
      ]
    },
    {
      "metadata": {
        "id": "HhHqW3StKn0j",
        "colab_type": "text"
      },
      "cell_type": "markdown",
      "source": [
        "# 간단한 소개\n",
        "https://colab.research.google.com (접속하면 바로 소개문서 노트북)\n",
        "\n",
        "1. Jupyter Notebook 기능 포함 (파이썬 실행, 마크다운, 수식, 차트 표현 등)\n",
        "1. 구글 드라이브의 문서 생성과 공유 기능 (닥스 문서와 동일한 방법으로 생성, 공유)\n",
        "1. 파이썬 2.7과 3.6을 지원\n"
      ]
    },
    {
      "metadata": {
        "id": "1RqXgtgGOkhx",
        "colab_type": "text"
      },
      "cell_type": "markdown",
      "source": [
        "# 파이썬 3.6으로 바꾸는 방법\n",
        "* 문서를 생성할 때 \"파일 / 새 Python 3 노트\" 선택\n",
        "* 현재 문서의 파이썬 런타임을 바꾸는 방법 \"런타임 / 런타임 유형 변경\" 선택 (그림) <br> 무료 GPU 사용도 가능\n",
        "\n",
        "<img src=\"https://i.imgur.com/GmBRYsT.png\" >\n"
      ]
    },
    {
      "metadata": {
        "id": "sm7ja59QmK3E",
        "colab_type": "text"
      },
      "cell_type": "markdown",
      "source": [
        "# 환경 설정 정보"
      ]
    },
    {
      "metadata": {
        "id": "nJmEvFPvmSp7",
        "colab_type": "code",
        "colab": {
          "base_uri": "https://localhost:8080/",
          "height": 143
        },
        "outputId": "63544b49-cf16-4c67-ef45-b0ca2eb8b8b3"
      },
      "cell_type": "code",
      "source": [
        "# 디스크 용량: 사용자 영역 40G\n",
        "\n",
        "! df -h"
      ],
      "execution_count": 9,
      "outputs": [
        {
          "output_type": "stream",
          "text": [
            "Filesystem      Size  Used Avail Use% Mounted on\r\n",
            "overlay          40G  4.9G   33G  14% /\r\n",
            "tmpfs           6.4G     0  6.4G   0% /dev\r\n",
            "tmpfs           6.4G     0  6.4G   0% /sys/fs/cgroup\r\n",
            "/dev/sda1        46G  5.6G   40G  13% /etc/hosts\r\n",
            "shm              64M     0   64M   0% /dev/shm\r\n",
            "tmpfs           6.4G     0  6.4G   0% /sys/firmware\r\n"
          ],
          "name": "stdout"
        }
      ]
    },
    {
      "metadata": {
        "id": "_OS3EZQmvGRu",
        "colab_type": "code",
        "colab": {
          "base_uri": "https://localhost:8080/",
          "height": 1009
        },
        "outputId": "80c6769d-6263-4246-d319-b8ff3bbe0a6b"
      },
      "cell_type": "code",
      "source": [
        "# CPU: 듀얼코어 2.20GHz\n",
        "\n",
        "! cat /proc/cpuinfo"
      ],
      "execution_count": 6,
      "outputs": [
        {
          "output_type": "stream",
          "text": [
            "processor\t: 0\r\n",
            "vendor_id\t: GenuineIntel\r\n",
            "cpu family\t: 6\r\n",
            "model\t\t: 79\r\n",
            "model name\t: Intel(R) Xeon(R) CPU @ 2.20GHz\r\n",
            "stepping\t: 0\r\n",
            "microcode\t: 0x1\r\n",
            "cpu MHz\t\t: 2200.000\r\n",
            "cache size\t: 56320 KB\r\n",
            "physical id\t: 0\r\n",
            "siblings\t: 2\r\n",
            "core id\t\t: 0\r\n",
            "cpu cores\t: 1\r\n",
            "apicid\t\t: 0\r\n",
            "initial apicid\t: 0\r\n",
            "fpu\t\t: yes\r\n",
            "fpu_exception\t: yes\r\n",
            "cpuid level\t: 13\r\n",
            "wp\t\t: yes\r\n",
            "flags\t\t: fpu vme de pse tsc msr pae mce cx8 apic sep mtrr pge mca cmov pat pse36 clflush mmx fxsr sse sse2 ss ht syscall nx pdpe1gb rdtscp lm constant_tsc rep_good nopl xtopology nonstop_tsc eagerfpu pni pclmulqdq ssse3 fma cx16 sse4_1 sse4_2 x2apic movbe popcnt aes xsave avx f16c rdrand hypervisor lahf_lm abm 3dnowprefetch kaiser fsgsbase tsc_adjust bmi1 hle avx2 smep bmi2 erms rtm rdseed adx smap xsaveopt\r\n",
            "bugs\t\t:\r\n",
            "bogomips\t: 4400.00\r\n",
            "clflush size\t: 64\r\n",
            "cache_alignment\t: 64\r\n",
            "address sizes\t: 46 bits physical, 48 bits virtual\r\n",
            "power management:\r\n",
            "\r\n",
            "processor\t: 1\r\n",
            "vendor_id\t: GenuineIntel\r\n",
            "cpu family\t: 6\r\n",
            "model\t\t: 79\r\n",
            "model name\t: Intel(R) Xeon(R) CPU @ 2.20GHz\r\n",
            "stepping\t: 0\r\n",
            "microcode\t: 0x1\r\n",
            "cpu MHz\t\t: 2200.000\r\n",
            "cache size\t: 56320 KB\r\n",
            "physical id\t: 0\r\n",
            "siblings\t: 2\r\n",
            "core id\t\t: 0\r\n",
            "cpu cores\t: 1\r\n",
            "apicid\t\t: 1\r\n",
            "initial apicid\t: 1\r\n",
            "fpu\t\t: yes\r\n",
            "fpu_exception\t: yes\r\n",
            "cpuid level\t: 13\r\n",
            "wp\t\t: yes\r\n",
            "flags\t\t: fpu vme de pse tsc msr pae mce cx8 apic sep mtrr pge mca cmov pat pse36 clflush mmx fxsr sse sse2 ss ht syscall nx pdpe1gb rdtscp lm constant_tsc rep_good nopl xtopology nonstop_tsc eagerfpu pni pclmulqdq ssse3 fma cx16 sse4_1 sse4_2 x2apic movbe popcnt aes xsave avx f16c rdrand hypervisor lahf_lm abm 3dnowprefetch kaiser fsgsbase tsc_adjust bmi1 hle avx2 smep bmi2 erms rtm rdseed adx smap xsaveopt\r\n",
            "bugs\t\t:\r\n",
            "bogomips\t: 4400.00\r\n",
            "clflush size\t: 64\r\n",
            "cache_alignment\t: 64\r\n",
            "address sizes\t: 46 bits physical, 48 bits virtual\r\n",
            "power management:\r\n",
            "\r\n"
          ],
          "name": "stdout"
        }
      ]
    },
    {
      "metadata": {
        "id": "ktKE_tPIwSOw",
        "colab_type": "code",
        "colab": {
          "base_uri": "https://localhost:8080/",
          "height": 791
        },
        "outputId": "9e16939e-bc38-40cf-f073-a423549cee1f"
      },
      "cell_type": "code",
      "source": [
        "# 메모리: 13G\n",
        "! cat /proc/meminfo"
      ],
      "execution_count": 9,
      "outputs": [
        {
          "output_type": "stream",
          "text": [
            "MemTotal:       13341832 kB\r\n",
            "MemFree:         1336156 kB\r\n",
            "MemAvailable:   11760016 kB\r\n",
            "Buffers:          117024 kB\r\n",
            "Cached:         10263892 kB\r\n",
            "SwapCached:            0 kB\r\n",
            "Active:          3461464 kB\r\n",
            "Inactive:        7781064 kB\r\n",
            "Active(anon):    1031980 kB\r\n",
            "Inactive(anon):    85596 kB\r\n",
            "Active(file):    2429484 kB\r\n",
            "Inactive(file):  7695468 kB\r\n",
            "Unevictable:           0 kB\r\n",
            "Mlocked:               0 kB\r\n",
            "SwapTotal:             0 kB\r\n",
            "SwapFree:              0 kB\r\n",
            "Dirty:               192 kB\r\n",
            "Writeback:             0 kB\r\n",
            "AnonPages:        861692 kB\r\n",
            "Mapped:           379652 kB\r\n",
            "Shmem:            255972 kB\r\n",
            "Slab:             584764 kB\r\n",
            "SReclaimable:     552324 kB\r\n",
            "SUnreclaim:        32440 kB\r\n",
            "KernelStack:        3216 kB\r\n",
            "PageTables:         6500 kB\r\n",
            "NFS_Unstable:          0 kB\r\n",
            "Bounce:                0 kB\r\n",
            "WritebackTmp:          0 kB\r\n",
            "CommitLimit:     6670916 kB\r\n",
            "Committed_AS:    2163336 kB\r\n",
            "VmallocTotal:   34359738367 kB\r\n",
            "VmallocUsed:           0 kB\r\n",
            "VmallocChunk:          0 kB\r\n",
            "AnonHugePages:         0 kB\r\n",
            "HugePages_Total:       0\r\n",
            "HugePages_Free:        0\r\n",
            "HugePages_Rsvd:        0\r\n",
            "HugePages_Surp:        0\r\n",
            "Hugepagesize:       2048 kB\r\n",
            "DirectMap4k:      155596 kB\r\n",
            "DirectMap2M:     5087232 kB\r\n",
            "DirectMap1G:    10485760 kB\r\n"
          ],
          "name": "stdout"
        }
      ]
    },
    {
      "metadata": {
        "id": "G1w__WlvEEsC",
        "colab_type": "code",
        "colab": {
          "base_uri": "https://localhost:8080/",
          "height": 35
        },
        "outputId": "4ca77ca0-c054-4026-cbfa-97f547229f6d"
      },
      "cell_type": "code",
      "source": [
        "# 파이썬 버전: 3.6 (2.7도 지원)\n",
        "\n",
        "import sys\n",
        "sys.version_info  "
      ],
      "execution_count": 1,
      "outputs": [
        {
          "output_type": "execute_result",
          "data": {
            "text/plain": [
              "sys.version_info(major=3, minor=6, micro=3, releaselevel='final', serial=0)"
            ]
          },
          "metadata": {
            "tags": []
          },
          "execution_count": 1
        }
      ]
    },
    {
      "metadata": {
        "id": "pg4UIc3PPsEV",
        "colab_type": "code",
        "colab": {
          "base_uri": "https://localhost:8080/",
          "height": 35
        },
        "outputId": "4d732087-4f40-414c-ef88-fd8fd932c99e"
      },
      "cell_type": "code",
      "source": [
        "# OS 플랫폼: 64비트 우분투 17.10 버전\n",
        "\n",
        "import platform\n",
        "platform.platform()"
      ],
      "execution_count": 10,
      "outputs": [
        {
          "output_type": "execute_result",
          "data": {
            "text/plain": [
              "'Linux-4.4.111+-x86_64-with-Ubuntu-17.10-artful'"
            ]
          },
          "metadata": {
            "tags": []
          },
          "execution_count": 10
        }
      ]
    },
    {
      "metadata": {
        "id": "PYUoUDZlPvsN",
        "colab_type": "code",
        "colab": {
          "base_uri": "https://localhost:8080/",
          "height": 2051
        },
        "outputId": "eb7dbcee-1590-47c0-fcba-8d36114e1829"
      },
      "cell_type": "code",
      "source": [
        "# 설치된 파이썬 패키지\n",
        "\n",
        "import pkg_resources\n",
        "dists = [d for d in pkg_resources.working_set]\n",
        "dists"
      ],
      "execution_count": 11,
      "outputs": [
        {
          "output_type": "execute_result",
          "data": {
            "text/plain": [
              "[xgboost 0.7.post4 (/usr/local/lib/python3.6/dist-packages),\n",
              " wrapt 1.10.11 (/usr/local/lib/python3.6/dist-packages),\n",
              " wheel 0.31.1 (/usr/local/lib/python3.6/dist-packages),\n",
              " Werkzeug 0.14.1 (/usr/local/lib/python3.6/dist-packages),\n",
              " webencodings 0.5.1 (/usr/local/lib/python3.6/dist-packages),\n",
              " wcwidth 0.1.7 (/usr/local/lib/python3.6/dist-packages),\n",
              " vega-datasets 0.5.0 (/usr/local/lib/python3.6/dist-packages),\n",
              " urllib3 1.22 (/usr/local/lib/python3.6/dist-packages),\n",
              " uritemplate 3.0.0 (/usr/local/lib/python3.6/dist-packages),\n",
              " typing 3.6.4 (/usr/local/lib/python3.6/dist-packages),\n",
              " traitlets 4.3.2 (/usr/local/lib/python3.6/dist-packages),\n",
              " tornado 4.5.3 (/usr/local/lib/python3.6/dist-packages),\n",
              " toolz 0.9.0 (/usr/local/lib/python3.6/dist-packages),\n",
              " testpath 0.3.1 (/usr/local/lib/python3.6/dist-packages),\n",
              " terminado 0.8.1 (/usr/local/lib/python3.6/dist-packages),\n",
              " termcolor 1.1.0 (/usr/local/lib/python3.6/dist-packages),\n",
              " tensorflow 1.8.0 (/usr/local/lib/python3.6/dist-packages),\n",
              " tensorflow-hub 0.1.0 (/usr/local/lib/python3.6/dist-packages),\n",
              " tensorboard 1.8.0 (/usr/local/lib/python3.6/dist-packages),\n",
              " sympy 1.1.1 (/usr/local/lib/python3.6/dist-packages),\n",
              " statsmodels 0.8.0 (/usr/local/lib/python3.6/dist-packages),\n",
              " six 1.11.0 (/usr/local/lib/python3.6/dist-packages),\n",
              " simplegeneric 0.8.1 (/usr/local/lib/python3.6/dist-packages),\n",
              " setuptools 39.2.0 (/usr/local/lib/python3.6/dist-packages),\n",
              " seaborn 0.7.1 (/usr/local/lib/python3.6/dist-packages),\n",
              " scipy 0.19.1 (/usr/local/lib/python3.6/dist-packages),\n",
              " scikit-learn 0.19.1 (/usr/local/lib/python3.6/dist-packages),\n",
              " scikit-image 0.13.1 (/usr/local/lib/python3.6/dist-packages),\n",
              " rsa 3.4.2 (/usr/local/lib/python3.6/dist-packages),\n",
              " requests 2.18.4 (/usr/local/lib/python3.6/dist-packages),\n",
              " requests-oauthlib 0.8.0 (/usr/local/lib/python3.6/dist-packages),\n",
              " requests-ftp 0.3.1 (/usr/local/lib/python3.6/dist-packages),\n",
              " requests-file 1.4.3 (/usr/local/lib/python3.6/dist-packages),\n",
              " pyzmq 16.0.4 (/usr/local/lib/python3.6/dist-packages),\n",
              " PyYAML 3.12 (/usr/local/lib/python3.6/dist-packages),\n",
              " PyWavelets 0.5.2 (/usr/local/lib/python3.6/dist-packages),\n",
              " pytz 2018.4 (/usr/local/lib/python3.6/dist-packages),\n",
              " python-dateutil 2.5.3 (/usr/local/lib/python3.6/dist-packages),\n",
              " pyparsing 2.2.0 (/usr/local/lib/python3.6/dist-packages),\n",
              " Pygments 2.1.3 (/usr/local/lib/python3.6/dist-packages),\n",
              " pyasn1 0.4.2 (/usr/local/lib/python3.6/dist-packages),\n",
              " pyasn1-modules 0.2.1 (/usr/local/lib/python3.6/dist-packages),\n",
              " ptyprocess 0.5.2 (/usr/local/lib/python3.6/dist-packages),\n",
              " psutil 5.4.5 (/usr/local/lib/python3.6/dist-packages),\n",
              " protobuf 3.5.2.post1 (/usr/local/lib/python3.6/dist-packages),\n",
              " prompt-toolkit 1.0.15 (/usr/local/lib/python3.6/dist-packages),\n",
              " portpicker 1.2.0 (/usr/local/lib/python3.6/dist-packages),\n",
              " plotly 1.12.12 (/usr/local/lib/python3.6/dist-packages),\n",
              " pip 10.0.1 (/usr/local/lib/python3.6/dist-packages),\n",
              " Pillow 4.0.0 (/usr/local/lib/python3.6/dist-packages),\n",
              " pickleshare 0.7.4 (/usr/local/lib/python3.6/dist-packages),\n",
              " pexpect 4.5.0 (/usr/local/lib/python3.6/dist-packages),\n",
              " patsy 0.5.0 (/usr/local/lib/python3.6/dist-packages),\n",
              " pandocfilters 1.4.2 (/usr/local/lib/python3.6/dist-packages),\n",
              " pandas 0.22.0 (/usr/local/lib/python3.6/dist-packages),\n",
              " pandas-gbq 0.4.1 (/usr/local/lib/python3.6/dist-packages),\n",
              " pandas-datareader 0.6.0 (/usr/local/lib/python3.6/dist-packages),\n",
              " opencv-python 3.4.1.15 (/usr/local/lib/python3.6/dist-packages),\n",
              " olefile 0.45.1 (/usr/local/lib/python3.6/dist-packages),\n",
              " oauthlib 2.0.7 (/usr/local/lib/python3.6/dist-packages),\n",
              " oauth2client 4.1.2 (/usr/local/lib/python3.6/dist-packages),\n",
              " numpy 1.14.3 (/usr/local/lib/python3.6/dist-packages),\n",
              " notebook 5.2.2 (/usr/local/lib/python3.6/dist-packages),\n",
              " nltk 3.2.5 (/usr/local/lib/python3.6/dist-packages),\n",
              " networkx 2.1 (/usr/local/lib/python3.6/dist-packages),\n",
              " nbformat 4.4.0 (/usr/local/lib/python3.6/dist-packages),\n",
              " nbconvert 5.3.1 (/usr/local/lib/python3.6/dist-packages),\n",
              " mpmath 1.0.0 (/usr/local/lib/python3.6/dist-packages),\n",
              " mistune 0.8.3 (/usr/local/lib/python3.6/dist-packages),\n",
              " matplotlib 2.1.2 (/usr/local/lib/python3.6/dist-packages),\n",
              " MarkupSafe 1.0 (/usr/local/lib/python3.6/dist-packages),\n",
              " Markdown 2.6.11 (/usr/local/lib/python3.6/dist-packages),\n",
              " lxml 4.2.1 (/usr/local/lib/python3.6/dist-packages),\n",
              " Keras 2.1.6 (/usr/local/lib/python3.6/dist-packages),\n",
              " jupyter-core 4.4.0 (/usr/local/lib/python3.6/dist-packages),\n",
              " jupyter-client 5.2.3 (/usr/local/lib/python3.6/dist-packages),\n",
              " jsonschema 2.6.0 (/usr/local/lib/python3.6/dist-packages),\n",
              " Jinja2 2.10 (/usr/local/lib/python3.6/dist-packages),\n",
              " ipython 5.5.0 (/usr/local/lib/python3.6/dist-packages),\n",
              " ipython-genutils 0.2.0 (/usr/local/lib/python3.6/dist-packages),\n",
              " ipykernel 4.6.1 (/usr/local/lib/python3.6/dist-packages),\n",
              " idna 2.6 (/usr/local/lib/python3.6/dist-packages),\n",
              " httplib2 0.11.3 (/usr/local/lib/python3.6/dist-packages),\n",
              " html5lib 0.9999999 (/usr/local/lib/python3.6/dist-packages),\n",
              " h5py 2.7.1 (/usr/local/lib/python3.6/dist-packages),\n",
              " grpcio 1.12.1 (/usr/local/lib/python3.6/dist-packages),\n",
              " googleapis-common-protos 1.5.3 (/usr/local/lib/python3.6/dist-packages),\n",
              " google-resumable-media 0.3.1 (/usr/local/lib/python3.6/dist-packages),\n",
              " google-colab 0.0.1a1 (/usr/local/lib/python3.6/dist-packages),\n",
              " google-cloud-translate 1.3.1 (/usr/local/lib/python3.6/dist-packages),\n",
              " google-cloud-storage 1.8.0 (/usr/local/lib/python3.6/dist-packages),\n",
              " google-cloud-language 1.0.2 (/usr/local/lib/python3.6/dist-packages),\n",
              " google-cloud-core 0.28.1 (/usr/local/lib/python3.6/dist-packages),\n",
              " google-cloud-bigquery 1.1.0 (/usr/local/lib/python3.6/dist-packages),\n",
              " google-auth 1.4.1 (/usr/local/lib/python3.6/dist-packages),\n",
              " google-auth-oauthlib 0.2.0 (/usr/local/lib/python3.6/dist-packages),\n",
              " google-auth-httplib2 0.0.3 (/usr/local/lib/python3.6/dist-packages),\n",
              " google-api-python-client 1.6.7 (/usr/local/lib/python3.6/dist-packages),\n",
              " google-api-core 1.1.2 (/usr/local/lib/python3.6/dist-packages),\n",
              " gast 0.2.0 (/usr/local/lib/python3.6/dist-packages),\n",
              " future 0.16.0 (/usr/local/lib/python3.6/dist-packages),\n",
              " entrypoints 0.2.3 (/usr/local/lib/python3.6/dist-packages),\n",
              " decorator 4.3.0 (/usr/local/lib/python3.6/dist-packages),\n",
              " cycler 0.10.0 (/usr/local/lib/python3.6/dist-packages),\n",
              " crcmod 1.7 (/usr/local/lib/python3.6/dist-packages),\n",
              " chardet 3.0.4 (/usr/local/lib/python3.6/dist-packages),\n",
              " certifi 2018.4.16 (/usr/local/lib/python3.6/dist-packages),\n",
              " cachetools 2.1.0 (/usr/local/lib/python3.6/dist-packages),\n",
              " bleach 1.5.0 (/usr/local/lib/python3.6/dist-packages),\n",
              " beautifulsoup4 4.6.0 (/usr/local/lib/python3.6/dist-packages),\n",
              " astor 0.6.2 (/usr/local/lib/python3.6/dist-packages),\n",
              " altair 2.0.1 (/usr/local/lib/python3.6/dist-packages),\n",
              " absl-py 0.2.2 (/usr/local/lib/python3.6/dist-packages)]"
            ]
          },
          "metadata": {
            "tags": []
          },
          "execution_count": 11
        }
      ]
    },
    {
      "metadata": {
        "id": "ySBnOy50P635",
        "colab_type": "text"
      },
      "cell_type": "markdown",
      "source": [
        "scipy, numpy, pandas 등 대부분의 파이썬 패키지들이 설치되어 있으며, scikit-learn, tensorflow 등 머신러닝라이브러리도 설치되어 있다.\n",
        "\n"
      ]
    },
    {
      "metadata": {
        "id": "KS7l7YD_XJrz",
        "colab_type": "text"
      },
      "cell_type": "markdown",
      "source": [
        "# TensorFlow"
      ]
    },
    {
      "metadata": {
        "id": "mZovyWHFteR6",
        "colab_type": "text"
      },
      "cell_type": "markdown",
      "source": [
        ""
      ]
    },
    {
      "metadata": {
        "id": "1vi8n_dTtemV",
        "colab_type": "code",
        "colab": {
          "base_uri": "https://localhost:8080/",
          "height": 35
        },
        "outputId": "69fb9090-717e-4f73-9727-42505b34e565"
      },
      "cell_type": "code",
      "source": [
        "# GPU 사용 가능 확인 ( \"/device:GPU:0\" 문자열이 반환되면 GPU 사용 가능함 의미)\n",
        "\n",
        "import tensorflow as tf\n",
        "device_name = tf.test.gpu_device_name()\n",
        "device_name"
      ],
      "execution_count": 3,
      "outputs": [
        {
          "output_type": "execute_result",
          "data": {
            "text/plain": [
              "'/device:GPU:0'"
            ]
          },
          "metadata": {
            "tags": []
          },
          "execution_count": 3
        }
      ]
    },
    {
      "metadata": {
        "id": "3Y3vIGBX1aSe",
        "colab_type": "text"
      },
      "cell_type": "markdown",
      "source": [
        "# 케라스 설치"
      ]
    },
    {
      "metadata": {
        "id": "TNGoZWuCuF0W",
        "colab_type": "code",
        "colab": {
          "base_uri": "https://localhost:8080/",
          "height": 125
        },
        "outputId": "c562ed9c-e32b-4c63-92d6-c6153e81f474"
      },
      "cell_type": "code",
      "source": [
        "! pip install keras"
      ],
      "execution_count": 13,
      "outputs": [
        {
          "output_type": "stream",
          "text": [
            "Requirement already satisfied: keras in /usr/local/lib/python3.6/dist-packages (2.1.6)\r\n",
            "Requirement already satisfied: scipy>=0.14 in /usr/local/lib/python3.6/dist-packages (from keras) (0.19.1)\r\n",
            "Requirement already satisfied: numpy>=1.9.1 in /usr/local/lib/python3.6/dist-packages (from keras) (1.14.3)\r\n",
            "Requirement already satisfied: six>=1.9.0 in /usr/local/lib/python3.6/dist-packages (from keras) (1.11.0)\r\n",
            "Requirement already satisfied: pyyaml in /usr/local/lib/python3.6/dist-packages (from keras) (3.12)\r\n",
            "Requirement already satisfied: h5py in /usr/local/lib/python3.6/dist-packages (from keras) (2.7.1)\r\n"
          ],
          "name": "stdout"
        }
      ]
    },
    {
      "metadata": {
        "id": "PNrNBrQ0uJYc",
        "colab_type": "code",
        "colab": {
          "base_uri": "https://localhost:8080/",
          "height": 90
        },
        "outputId": "891282a4-e7b1-4720-926f-175928edacf9"
      },
      "cell_type": "code",
      "source": [
        "from  keras.models  import Sequential\n",
        "from keras.layers import Dense, Flatten, Conv2D, MaxPooling2D, Dropout\n",
        "from keras.datasets import mnist\n",
        "import matplotlib.pyplot as plt\n",
        "import numpy as np\n",
        "\n",
        "\n",
        "nb_classesnb_clas  = 10\n",
        "\n",
        "# the data, shuffled and split between tran and test sets\n",
        "(X_train, y_train), (X_test, y_test) = mnist.load_data()\n",
        "print(\"X_train original shape\", X_train.shape)\n",
        "print(\"y_train original shape\", y_train.shape)"
      ],
      "execution_count": 19,
      "outputs": [
        {
          "output_type": "stream",
          "text": [
            "Downloading data from https://s3.amazonaws.com/img-datasets/mnist.npz\n",
            "11493376/11490434 [==============================] - 3s 0us/step\n",
            "X_train original shape (60000, 28, 28)\n",
            "y_train original shape (60000,)\n"
          ],
          "name": "stdout"
        }
      ]
    },
    {
      "metadata": {
        "id": "pmddnJc1_d4G",
        "colab_type": "code",
        "colab": {
          "base_uri": "https://localhost:8080/",
          "height": 363
        },
        "outputId": "49b54cff-6ccb-4e71-bf63-f33789f413fe"
      },
      "cell_type": "code",
      "source": [
        "for i in range(9):\n",
        "    plt.subplot(3,3,i+1)\n",
        "    plt.imshow(X_train[i], cmap='gray', interpolation='none')\n",
        "    plt.title(\"Class {}\".format(y_train[i]))"
      ],
      "execution_count": 20,
      "outputs": [
        {
          "output_type": "display_data",
          "data": {
            "image/png": "[encoded data removed]",
            "text/plain": [
              "<matplotlib.figure.Figure at 0x7f8f86e02320>"
            ]
          },
          "metadata": {
            "tags": []
          }
        }
      ]
    },
    {
      "metadata": {
        "id": "I2wUizgu_d9D",
        "colab_type": "code",
        "colab": {}
      },
      "cell_type": "code",
      "source": [
        "# Y_train = np_utils.to_categorical(y_train, nb_classes)\n",
        "# Y_test = np_utils.to_categorical(y_test, nb_classes)"
      ],
      "execution_count": 0,
      "outputs": []
    },
    {
      "metadata": {
        "id": "-0iqc-_w_eDy",
        "colab_type": "code",
        "colab": {}
      },
      "cell_type": "code",
      "source": [
        "model = Sequential()\n",
        "model.add(Dense(512, input_shape=(784,)))\n",
        "model.add(Activation('relu')) # An \"activation\" is just a non-linear function applied to the output\n",
        "                              # of the layer above. Here, with a \"rectified linear unit\",\n",
        "                              # we clamp all values below 0 to 0.\n",
        "                           \n",
        "model.add(Dropout(0.2))   # Dropout helps protect the model from memorizing or \"overfitting\" the training data\n",
        "model.add(Dense(512))\n",
        "model.add(Activation('relu'))\n",
        "model.add(Dropout(0.2))\n",
        "model.add(Dense(10))\n",
        "model.add(Activation('softmax')) # This special \"softmax\" activation among other things,\n",
        "                                 # ensures the output is a valid probaility distribution, that is\n",
        "                                 # that its values are all non-negative and sum to 1."
      ],
      "execution_count": 0,
      "outputs": []
    },
    {
      "metadata": {
        "id": "Fc4DqLZf_eCB",
        "colab_type": "code",
        "colab": {}
      },
      "cell_type": "code",
      "source": [
        "model.compile(loss='categorical_crossentropy', optimizer='adam')"
      ],
      "execution_count": 0,
      "outputs": []
    },
    {
      "metadata": {
        "id": "1mtOwRlb_eAC",
        "colab_type": "code",
        "colab": {}
      },
      "cell_type": "code",
      "source": [
        "# Train the model!\n",
        "model.fit(X_train, Y_train,\n",
        "          batch_size=128, nb_epoch=4,\n",
        "          show_accuracy=True, verbose=1,\n",
        "          validation_data=(X_test, Y_test))"
      ],
      "execution_count": 0,
      "outputs": []
    },
    {
      "metadata": {
        "id": "Onda3sOXABep",
        "colab_type": "code",
        "colab": {
          "base_uri": "https://localhost:8080/",
          "height": 229
        },
        "outputId": "15f21d81-5925-4535-a10b-ae5b33d3ffa8"
      },
      "cell_type": "code",
      "source": [
        "#evaluate its performance\n",
        "re = model.evaluate(X_test, Y_test,\n",
        "                       show_accuracy=True, verbose=0)\n",
        "print('Test score:', score[0])\n",
        "print('Test accuracy:', score[1])"
      ],
      "execution_count": 25,
      "outputs": [
        {
          "output_type": "error",
          "ename": "NameError",
          "evalue": "ignored",
          "traceback": [
            "\u001b[0;31m---------------------------------------------------------------------------\u001b[0m",
            "\u001b[0;31mNameError\u001b[0m                                 Traceback (most recent call last)",
            "\u001b[0;32m<ipython-input-25-72f5bc6d6ca6>\u001b[0m in \u001b[0;36m<module>\u001b[0;34m()\u001b[0m\n\u001b[0;32m----> 1\u001b[0;31m re = model.evaluate(X_test, Y_test,\n\u001b[0m\u001b[1;32m      2\u001b[0m                        show_accuracy=True, verbose=0)\n\u001b[1;32m      3\u001b[0m \u001b[0mprint\u001b[0m\u001b[0;34m(\u001b[0m\u001b[0;34m'Test score:'\u001b[0m\u001b[0;34m,\u001b[0m \u001b[0mscore\u001b[0m\u001b[0;34m[\u001b[0m\u001b[0;36m0\u001b[0m\u001b[0;34m]\u001b[0m\u001b[0;34m)\u001b[0m\u001b[0;34m\u001b[0m\u001b[0m\n\u001b[1;32m      4\u001b[0m \u001b[0mprint\u001b[0m\u001b[0;34m(\u001b[0m\u001b[0;34m'Test accuracy:'\u001b[0m\u001b[0;34m,\u001b[0m \u001b[0mscore\u001b[0m\u001b[0;34m[\u001b[0m\u001b[0;36m1\u001b[0m\u001b[0;34m]\u001b[0m\u001b[0;34m)\u001b[0m\u001b[0;34m\u001b[0m\u001b[0m\n",
            "\u001b[0;31mNameError\u001b[0m: name 'Y_test' is not defined"
          ]
        }
      ]
    },
    {
      "metadata": {
        "id": "5TztjYXrABpU",
        "colab_type": "code",
        "colab": {
          "base_uri": "https://localhost:8080/",
          "height": 756
        },
        "outputId": "c3efa406-4d36-4347-888b-ca1f6cb97653"
      },
      "cell_type": "code",
      "source": [
        "\n",
        "# The predict_classes function outputs the highest probability class# The pr \n",
        "# according to the trained classifier for each input example.\n",
        "predicted_classes = model.predict_classes(X_test)\n",
        "\n",
        "# Check which items we got right / wrong\n",
        "correct_indices = np.nonzero(predicted_classes == y_test)[0]\n",
        "incorrect_indices = np.nonzero(predicted_classes != y_test)[0]"
      ],
      "execution_count": 26,
      "outputs": [
        {
          "output_type": "error",
          "ename": "ValueError",
          "evalue": "ignored",
          "traceback": [
            "\u001b[0;31m---------------------------------------------------------------------------\u001b[0m",
            "\u001b[0;31mValueError\u001b[0m                                Traceback (most recent call last)",
            "\u001b[0;32m<ipython-input-26-cc772459a5cb>\u001b[0m in \u001b[0;36m<module>\u001b[0;34m()\u001b[0m\n\u001b[0;32m----> 1\u001b[0;31m \u001b[0mpredicted_classes\u001b[0m \u001b[0;34m=\u001b[0m \u001b[0mmodel\u001b[0m\u001b[0;34m.\u001b[0m\u001b[0mpredict_classes\u001b[0m\u001b[0;34m(\u001b[0m\u001b[0mX_test\u001b[0m\u001b[0;34m)\u001b[0m\u001b[0;34m\u001b[0m\u001b[0m\n\u001b[0m\u001b[1;32m      2\u001b[0m \u001b[0;34m\u001b[0m\u001b[0m\n\u001b[1;32m      3\u001b[0m \u001b[0;31m# Check which items we got right / wrong\u001b[0m\u001b[0;34m\u001b[0m\u001b[0;34m\u001b[0m\u001b[0m\n\u001b[1;32m      4\u001b[0m \u001b[0mcorrect_indices\u001b[0m \u001b[0;34m=\u001b[0m \u001b[0mnp\u001b[0m\u001b[0;34m.\u001b[0m\u001b[0mnonzero\u001b[0m\u001b[0;34m(\u001b[0m\u001b[0mpredicted_classes\u001b[0m \u001b[0;34m==\u001b[0m \u001b[0my_test\u001b[0m\u001b[0;34m)\u001b[0m\u001b[0;34m[\u001b[0m\u001b[0;36m0\u001b[0m\u001b[0;34m]\u001b[0m\u001b[0;34m\u001b[0m\u001b[0m\n\u001b[1;32m      5\u001b[0m \u001b[0mincorrect_indices\u001b[0m \u001b[0;34m=\u001b[0m \u001b[0mnp\u001b[0m\u001b[0;34m.\u001b[0m\u001b[0mnonzero\u001b[0m\u001b[0;34m(\u001b[0m\u001b[0mpredicted_classes\u001b[0m \u001b[0;34m!=\u001b[0m \u001b[0my_test\u001b[0m\u001b[0;34m)\u001b[0m\u001b[0;34m[\u001b[0m\u001b[0;36m0\u001b[0m\u001b[0;34m]\u001b[0m\u001b[0;34m\u001b[0m\u001b[0m\n",
            "\u001b[0;32m/usr/local/lib/python3.6/dist-packages/keras/models.py\u001b[0m in \u001b[0;36mpredict_classes\u001b[0;34m(self, x, batch_size, verbose, steps)\u001b[0m\n\u001b[1;32m   1175\u001b[0m         \"\"\"\n\u001b[1;32m   1176\u001b[0m         proba = self.predict(x, batch_size=batch_size, verbose=verbose,\n\u001b[0;32m-> 1177\u001b[0;31m                              steps=steps)\n\u001b[0m\u001b[1;32m   1178\u001b[0m         \u001b[0;32mif\u001b[0m \u001b[0mproba\u001b[0m\u001b[0;34m.\u001b[0m\u001b[0mshape\u001b[0m\u001b[0;34m[\u001b[0m\u001b[0;34m-\u001b[0m\u001b[0;36m1\u001b[0m\u001b[0;34m]\u001b[0m \u001b[0;34m>\u001b[0m \u001b[0;36m1\u001b[0m\u001b[0;34m:\u001b[0m\u001b[0;34m\u001b[0m\u001b[0m\n\u001b[1;32m   1179\u001b[0m             \u001b[0;32mreturn\u001b[0m \u001b[0mproba\u001b[0m\u001b[0;34m.\u001b[0m\u001b[0margmax\u001b[0m\u001b[0;34m(\u001b[0m\u001b[0maxis\u001b[0m\u001b[0;34m=\u001b[0m\u001b[0;34m-\u001b[0m\u001b[0;36m1\u001b[0m\u001b[0;34m)\u001b[0m\u001b[0;34m\u001b[0m\u001b[0m\n",
            "\u001b[0;32m/usr/local/lib/python3.6/dist-packages/keras/models.py\u001b[0m in \u001b[0;36mpredict\u001b[0;34m(self, x, batch_size, verbose, steps)\u001b[0m\n\u001b[1;32m   1062\u001b[0m             \u001b[0mself\u001b[0m\u001b[0;34m.\u001b[0m\u001b[0mbuild\u001b[0m\u001b[0;34m(\u001b[0m\u001b[0;34m)\u001b[0m\u001b[0;34m\u001b[0m\u001b[0m\n\u001b[1;32m   1063\u001b[0m         return self.model.predict(x, batch_size=batch_size, verbose=verbose,\n\u001b[0;32m-> 1064\u001b[0;31m                                   steps=steps)\n\u001b[0m\u001b[1;32m   1065\u001b[0m \u001b[0;34m\u001b[0m\u001b[0m\n\u001b[1;32m   1066\u001b[0m     \u001b[0;32mdef\u001b[0m \u001b[0mpredict_on_batch\u001b[0m\u001b[0;34m(\u001b[0m\u001b[0mself\u001b[0m\u001b[0;34m,\u001b[0m \u001b[0mx\u001b[0m\u001b[0;34m)\u001b[0m\u001b[0;34m:\u001b[0m\u001b[0;34m\u001b[0m\u001b[0m\n",
            "\u001b[0;32m/usr/local/lib/python3.6/dist-packages/keras/engine/training.py\u001b[0m in \u001b[0;36mpredict\u001b[0;34m(self, x, batch_size, verbose, steps)\u001b[0m\n\u001b[1;32m   1815\u001b[0m         x = _standardize_input_data(x, self._feed_input_names,\n\u001b[1;32m   1816\u001b[0m                                     \u001b[0mself\u001b[0m\u001b[0;34m.\u001b[0m\u001b[0m_feed_input_shapes\u001b[0m\u001b[0;34m,\u001b[0m\u001b[0;34m\u001b[0m\u001b[0m\n\u001b[0;32m-> 1817\u001b[0;31m                                     check_batch_axis=False)\n\u001b[0m\u001b[1;32m   1818\u001b[0m         \u001b[0;32mif\u001b[0m \u001b[0mself\u001b[0m\u001b[0;34m.\u001b[0m\u001b[0mstateful\u001b[0m\u001b[0;34m:\u001b[0m\u001b[0;34m\u001b[0m\u001b[0m\n\u001b[1;32m   1819\u001b[0m             \u001b[0;32mif\u001b[0m \u001b[0mx\u001b[0m\u001b[0;34m[\u001b[0m\u001b[0;36m0\u001b[0m\u001b[0;34m]\u001b[0m\u001b[0;34m.\u001b[0m\u001b[0mshape\u001b[0m\u001b[0;34m[\u001b[0m\u001b[0;36m0\u001b[0m\u001b[0;34m]\u001b[0m \u001b[0;34m>\u001b[0m \u001b[0mbatch_size\u001b[0m \u001b[0;32mand\u001b[0m \u001b[0mx\u001b[0m\u001b[0;34m[\u001b[0m\u001b[0;36m0\u001b[0m\u001b[0;34m]\u001b[0m\u001b[0;34m.\u001b[0m\u001b[0mshape\u001b[0m\u001b[0;34m[\u001b[0m\u001b[0;36m0\u001b[0m\u001b[0;34m]\u001b[0m \u001b[0;34m%\u001b[0m \u001b[0mbatch_size\u001b[0m \u001b[0;34m!=\u001b[0m \u001b[0;36m0\u001b[0m\u001b[0;34m:\u001b[0m\u001b[0;34m\u001b[0m\u001b[0m\n",
            "\u001b[0;32m/usr/local/lib/python3.6/dist-packages/keras/engine/training.py\u001b[0m in \u001b[0;36m_standardize_input_data\u001b[0;34m(data, names, shapes, check_batch_axis, exception_prefix)\u001b[0m\n\u001b[1;32m    111\u001b[0m                         \u001b[0;34m': expected '\u001b[0m \u001b[0;34m+\u001b[0m \u001b[0mnames\u001b[0m\u001b[0;34m[\u001b[0m\u001b[0mi\u001b[0m\u001b[0;34m]\u001b[0m \u001b[0;34m+\u001b[0m \u001b[0;34m' to have '\u001b[0m \u001b[0;34m+\u001b[0m\u001b[0;34m\u001b[0m\u001b[0m\n\u001b[1;32m    112\u001b[0m                         \u001b[0mstr\u001b[0m\u001b[0;34m(\u001b[0m\u001b[0mlen\u001b[0m\u001b[0;34m(\u001b[0m\u001b[0mshape\u001b[0m\u001b[0;34m)\u001b[0m\u001b[0;34m)\u001b[0m \u001b[0;34m+\u001b[0m \u001b[0;34m' dimensions, but got array '\u001b[0m\u001b[0;34m\u001b[0m\u001b[0m\n\u001b[0;32m--> 113\u001b[0;31m                         'with shape ' + str(data_shape))\n\u001b[0m\u001b[1;32m    114\u001b[0m                 \u001b[0;32mif\u001b[0m \u001b[0;32mnot\u001b[0m \u001b[0mcheck_batch_axis\u001b[0m\u001b[0;34m:\u001b[0m\u001b[0;34m\u001b[0m\u001b[0m\n\u001b[1;32m    115\u001b[0m                     \u001b[0mdata_shape\u001b[0m \u001b[0;34m=\u001b[0m \u001b[0mdata_shape\u001b[0m\u001b[0;34m[\u001b[0m\u001b[0;36m1\u001b[0m\u001b[0;34m:\u001b[0m\u001b[0;34m]\u001b[0m\u001b[0;34m\u001b[0m\u001b[0m\n",
            "\u001b[0;31mValueError\u001b[0m: Error when checking : expected dense_1_input to have 2 dimensions, but got array with shape (10000, 28, 28)"
          ]
        }
      ]
    },
    {
      "metadata": {
        "id": "XEyB0BB_ABnQ",
        "colab_type": "code",
        "colab": {}
      },
      "cell_type": "code",
      "source": [
        ""
      ],
      "execution_count": 0,
      "outputs": []
    },
    {
      "metadata": {
        "id": "QowIEBRtABk9",
        "colab_type": "code",
        "colab": {}
      },
      "cell_type": "code",
      "source": [
        ""
      ],
      "execution_count": 0,
      "outputs": []
    },
    {
      "metadata": {
        "id": "nZjzX_VqABiY",
        "colab_type": "code",
        "colab": {}
      },
      "cell_type": "code",
      "source": [
        ""
      ],
      "execution_count": 0,
      "outputs": []
    },
    {
      "metadata": {
        "id": "ju5BDciDuf3D",
        "colab_type": "text"
      },
      "cell_type": "markdown",
      "source": [
        "# 간단한 차트"
      ]
    },
    {
      "metadata": {
        "id": "S53ooIfhW-mJ",
        "colab_type": "code",
        "colab": {
          "base_uri": "https://localhost:8080/",
          "height": 89
        },
        "outputId": "c1968717-55cc-4e28-e3e1-2f806802802a"
      },
      "cell_type": "code",
      "source": [
        "import numpy as np\n",
        "\n",
        "data = np.random.randint(-100, 100, 50)\n",
        "data"
      ],
      "execution_count": 4,
      "outputs": [
        {
          "output_type": "execute_result",
          "data": {
            "text/plain": [
              "array([ 32, -57,  68,  46, -99,  39, -11, -61,  93,  -2,  78,  -7, -93,\n",
              "        71,  84,  53,  81, -30, -17,  37,  74,   9,  68,  99, -72, -56,\n",
              "         5,  45,  21, -49,  -1, -83, -10,  34, -31, -32,  91,  21,  69,\n",
              "        58,  43,  10, -88,  46, -67,  30,  87,  -5, -57,  11])"
            ]
          },
          "metadata": {
            "tags": []
          },
          "execution_count": 4
        }
      ]
    },
    {
      "metadata": {
        "id": "3qgokxalXUmM",
        "colab_type": "code",
        "colab": {
          "base_uri": "https://localhost:8080/",
          "height": 347
        },
        "outputId": "f7e54c02-6754-4713-833b-9e29badd4bde"
      },
      "cell_type": "code",
      "source": [
        "import matplotlib.pyplot as plt\n",
        "\n",
        "plt.plot(data.cumsum())\n",
        "plt.show()"
      ],
      "execution_count": 5,
      "outputs": [
        {
          "output_type": "display_data",
          "data": {
            "image/png": "[encoded data removed]",
            "text/plain": [
              "<matplotlib.figure.Figure at 0x7fb6cbfc0ba8>"
            ]
          },
          "metadata": {
            "tags": []
          }
        }
      ]
    },
    {
      "metadata": {
        "id": "7YlBphxVXyff",
        "colab_type": "text"
      },
      "cell_type": "markdown",
      "source": [
        "# 추가 패키지 설치 - pandas_datareader\n",
        "\n",
        "필요한 패키지가 설치되어 있지 않다면 pip 외부 명령으로 추가 설치할 수 있다.\n"
      ]
    },
    {
      "metadata": {
        "id": "gWB5GpVmXyqq",
        "colab_type": "code",
        "colab": {
          "base_uri": "https://localhost:8080/",
          "height": 287
        },
        "outputId": "38326c08-6471-4ec9-f7a2-6cf51c3ab6bb"
      },
      "cell_type": "code",
      "source": [
        "! pip install pandas_datareader"
      ],
      "execution_count": 6,
      "outputs": [
        {
          "output_type": "stream",
          "text": [
            "Requirement already satisfied: pandas_datareader in /usr/local/lib/python3.6/dist-packages (0.6.0)\r\n",
            "Requirement already satisfied: lxml in /usr/local/lib/python3.6/dist-packages (from pandas_datareader) (4.2.1)\r\n",
            "Requirement already satisfied: pandas>=0.19.2 in /usr/local/lib/python3.6/dist-packages (from pandas_datareader) (0.22.0)\r\n",
            "Requirement already satisfied: requests-ftp in /usr/local/lib/python3.6/dist-packages (from pandas_datareader) (0.3.1)\r\n",
            "Requirement already satisfied: wrapt in /usr/local/lib/python3.6/dist-packages (from pandas_datareader) (1.10.11)\r\n",
            "Requirement already satisfied: requests>=2.3.0 in /usr/local/lib/python3.6/dist-packages (from pandas_datareader) (2.18.4)\n",
            "Requirement already satisfied: requests-file in /usr/local/lib/python3.6/dist-packages (from pandas_datareader) (1.4.3)\n",
            "Requirement already satisfied: numpy>=1.9.0 in /usr/local/lib/python3.6/dist-packages (from pandas>=0.19.2->pandas_datareader) (1.14.3)\n",
            "Requirement already satisfied: python-dateutil>=2 in /usr/local/lib/python3.6/dist-packages (from pandas>=0.19.2->pandas_datareader) (2.5.3)\n",
            "Requirement already satisfied: pytz>=2011k in /usr/local/lib/python3.6/dist-packages (from pandas>=0.19.2->pandas_datareader) (2018.4)\n",
            "Requirement already satisfied: idna<2.7,>=2.5 in /usr/local/lib/python3.6/dist-packages (from requests>=2.3.0->pandas_datareader) (2.6)\n",
            "Requirement already satisfied: urllib3<1.23,>=1.21.1 in /usr/local/lib/python3.6/dist-packages (from requests>=2.3.0->pandas_datareader) (1.22)\n",
            "Requirement already satisfied: chardet<3.1.0,>=3.0.2 in /usr/local/lib/python3.6/dist-packages (from requests>=2.3.0->pandas_datareader) (3.0.4)\n",
            "Requirement already satisfied: certifi>=2017.4.17 in /usr/local/lib/python3.6/dist-packages (from requests>=2.3.0->pandas_datareader) (2018.4.16)\n",
            "Requirement already satisfied: six in /usr/local/lib/python3.6/dist-packages (from requests-file->pandas_datareader) (1.11.0)\n"
          ],
          "name": "stdout"
        }
      ]
    },
    {
      "metadata": {
        "id": "6prvGaHqYCpe",
        "colab_type": "code",
        "colab": {
          "base_uri": "https://localhost:8080/",
          "height": 408
        },
        "outputId": "25cd5991-4ac8-4326-a68d-9b025144b934"
      },
      "cell_type": "code",
      "source": [
        "import pandas_datareader as pdr\n",
        "\n",
        "# 원달러 환율 데이터\n",
        "df = pdr.DataReader('DEXKOUS', 'fred', '2015-01-01')\n",
        "\n",
        "print('row count:', len(df))\n",
        "df.tail(10)"
      ],
      "execution_count": 7,
      "outputs": [
        {
          "output_type": "stream",
          "text": [
            "row count: 897\n"
          ],
          "name": "stdout"
        },
        {
          "output_type": "execute_result",
          "data": {
            "text/html": [
              "<div>\n",
              "<style scoped>\n",
              "    .dataframe tbody tr th:only-of-type {\n",
              "        vertical-align: middle;\n",
              "    }\n",
              "\n",
              "    .dataframe tbody tr th {\n",
              "        vertical-align: top;\n",
              "    }\n",
              "\n",
              "    .dataframe thead th {\n",
              "        text-align: right;\n",
              "    }\n",
              "</style>\n",
              "<table border=\"1\" class=\"dataframe\">\n",
              "  <thead>\n",
              "    <tr style=\"text-align: right;\">\n",
              "      <th></th>\n",
              "      <th>DEXKOUS</th>\n",
              "    </tr>\n",
              "    <tr>\n",
              "      <th>DATE</th>\n",
              "      <th></th>\n",
              "    </tr>\n",
              "  </thead>\n",
              "  <tbody>\n",
              "    <tr>\n",
              "      <th>2018-05-28</th>\n",
              "      <td>NaN</td>\n",
              "    </tr>\n",
              "    <tr>\n",
              "      <th>2018-05-29</th>\n",
              "      <td>1082.59</td>\n",
              "    </tr>\n",
              "    <tr>\n",
              "      <th>2018-05-30</th>\n",
              "      <td>1077.62</td>\n",
              "    </tr>\n",
              "    <tr>\n",
              "      <th>2018-05-31</th>\n",
              "      <td>1080.75</td>\n",
              "    </tr>\n",
              "    <tr>\n",
              "      <th>2018-06-01</th>\n",
              "      <td>1071.27</td>\n",
              "    </tr>\n",
              "    <tr>\n",
              "      <th>2018-06-04</th>\n",
              "      <td>1070.13</td>\n",
              "    </tr>\n",
              "    <tr>\n",
              "      <th>2018-06-05</th>\n",
              "      <td>1071.86</td>\n",
              "    </tr>\n",
              "    <tr>\n",
              "      <th>2018-06-06</th>\n",
              "      <td>1065.90</td>\n",
              "    </tr>\n",
              "    <tr>\n",
              "      <th>2018-06-07</th>\n",
              "      <td>1071.11</td>\n",
              "    </tr>\n",
              "    <tr>\n",
              "      <th>2018-06-08</th>\n",
              "      <td>1075.00</td>\n",
              "    </tr>\n",
              "  </tbody>\n",
              "</table>\n",
              "</div>"
            ],
            "text/plain": [
              "            DEXKOUS\n",
              "DATE               \n",
              "2018-05-28      NaN\n",
              "2018-05-29  1082.59\n",
              "2018-05-30  1077.62\n",
              "2018-05-31  1080.75\n",
              "2018-06-01  1071.27\n",
              "2018-06-04  1070.13\n",
              "2018-06-05  1071.86\n",
              "2018-06-06  1065.90\n",
              "2018-06-07  1071.11\n",
              "2018-06-08  1075.00"
            ]
          },
          "metadata": {
            "tags": []
          },
          "execution_count": 7
        }
      ]
    },
    {
      "metadata": {
        "id": "ypz_T9pFX2hE",
        "colab_type": "code",
        "colab": {
          "base_uri": "https://localhost:8080/",
          "height": 392
        },
        "outputId": "5d36c260-259b-4175-c412-1c27e203a935"
      },
      "cell_type": "code",
      "source": [
        "# 원달러 환율 차트\n",
        "\n",
        "df['DEXKOUS'].plot()"
      ],
      "execution_count": 8,
      "outputs": [
        {
          "output_type": "execute_result",
          "data": {
            "text/plain": [
              "<matplotlib.axes._subplots.AxesSubplot at 0x7fb6c90554a8>"
            ]
          },
          "metadata": {
            "tags": []
          },
          "execution_count": 8
        },
        {
          "output_type": "display_data",
          "data": {
            "image/png": "[encoded data removed]",
            "text/plain": [
              "<matplotlib.figure.Figure at 0x7fb6c9771be0>"
            ]
          },
          "metadata": {
            "tags": []
          }
        }
      ]
    },
    {
      "metadata": {
        "id": "VM_SH-1ym6ZA",
        "colab_type": "text"
      },
      "cell_type": "markdown",
      "source": [
        "# FinanceDataReader 설치와 활용\n",
        "\n",
        "\n"
      ]
    },
    {
      "metadata": {
        "id": "FXZSGr5Pm5fs",
        "colab_type": "code",
        "colab": {
          "base_uri": "https://localhost:8080/",
          "height": 305
        },
        "outputId": "ce1a48df-288f-4b1b-e58a-1e3584ac358b"
      },
      "cell_type": "code",
      "source": [
        "# 설치\n",
        "\n",
        "! pip install -U finance-datareader "
      ],
      "execution_count": 13,
      "outputs": [
        {
          "output_type": "stream",
          "text": [
            "Collecting finance-datareader\n",
            "  Downloading https://files.pythonhosted.org/packages/47/41/00f1387673a5f42034228f541a2650a1c0b87fab8d65363c67df677e2a98/finance_datareader-0.5.0-py3-none-any.whl\n",
            "Requirement not upgraded as not directly required: pandas>=0.19.2 in /usr/local/lib/python3.6/dist-packages (from finance-datareader) (0.22.0)\n",
            "Requirement not upgraded as not directly required: requests-file in /usr/local/lib/python3.6/dist-packages (from finance-datareader) (1.4.3)\n",
            "Requirement not upgraded as not directly required: lxml in /usr/local/lib/python3.6/dist-packages (from finance-datareader) (4.2.1)\n",
            "Requirement not upgraded as not directly required: requests>=2.3.0 in /usr/local/lib/python3.6/dist-packages (from finance-datareader) (2.18.4)\n",
            "Requirement not upgraded as not directly required: python-dateutil>=2 in /usr/local/lib/python3.6/dist-packages (from pandas>=0.19.2->finance-datareader) (2.5.3)\n",
            "Requirement not upgraded as not directly required: numpy>=1.9.0 in /usr/local/lib/python3.6/dist-packages (from pandas>=0.19.2->finance-datareader) (1.14.3)\n",
            "Requirement not upgraded as not directly required: pytz>=2011k in /usr/local/lib/python3.6/dist-packages (from pandas>=0.19.2->finance-datareader) (2018.4)\n",
            "Requirement not upgraded as not directly required: six in /usr/local/lib/python3.6/dist-packages (from requests-file->finance-datareader) (1.11.0)\n",
            "Requirement not upgraded as not directly required: urllib3<1.23,>=1.21.1 in /usr/local/lib/python3.6/dist-packages (from requests>=2.3.0->finance-datareader) (1.22)\n",
            "Requirement not upgraded as not directly required: idna<2.7,>=2.5 in /usr/local/lib/python3.6/dist-packages (from requests>=2.3.0->finance-datareader) (2.6)\n",
            "Requirement not upgraded as not directly required: chardet<3.1.0,>=3.0.2 in /usr/local/lib/python3.6/dist-packages (from requests>=2.3.0->finance-datareader) (3.0.4)\n",
            "Requirement not upgraded as not directly required: certifi>=2017.4.17 in /usr/local/lib/python3.6/dist-packages (from requests>=2.3.0->finance-datareader) (2018.4.16)\n",
            "Installing collected packages: finance-datareader\n",
            "Successfully installed finance-datareader-0.5.0\n"
          ],
          "name": "stdout"
        }
      ]
    },
    {
      "metadata": {
        "id": "39JBY-vdnMht",
        "colab_type": "code",
        "colab": {
          "base_uri": "https://localhost:8080/",
          "height": 366
        },
        "outputId": "b06122ba-56c4-4cdd-d53e-3fa627454061"
      },
      "cell_type": "code",
      "source": [
        "import FinanceDataReader as fdr\n",
        "\n",
        "# 셀트리온, 2017년~현재 종가 차트\n",
        "df = fdr.DataReader('068270', '2017')\n",
        "df['Close'].plot()"
      ],
      "execution_count": 22,
      "outputs": [
        {
          "output_type": "execute_result",
          "data": {
            "text/plain": [
              "<matplotlib.axes._subplots.AxesSubplot at 0x7fb6c7ddf630>"
            ]
          },
          "metadata": {
            "tags": []
          },
          "execution_count": 22
        },
        {
          "output_type": "display_data",
          "data": {
            "image/png": "[encoded data removed]",
            "text/plain": [
              "<matplotlib.figure.Figure at 0x7fb6cbff5080>"
            ]
          },
          "metadata": {
            "tags": []
          }
        }
      ]
    },
    {
      "metadata": {
        "id": "tXhGQFI-NuPn",
        "colab_type": "text"
      },
      "cell_type": "markdown",
      "source": [
        "# 결론\n",
        "* 사양: 30G 저장공간, 2코어 2.3GHz CPU, 13G 메모리\n",
        "* 환경: 우분투 17.10, 파이썬 2.7, 파이썬  3.6 지원\n",
        "* Tensorflow, SciKit learn 등 다양한 라이브러리 기본 설치 + GPU 지원\n",
        "* 필요한 패키지 추가 설치 가능 (pip)\n",
        "* 구글 드라이브의 공유와 동시 편집기능은 협업에 매우 유용\n",
        "\n",
        "\n",
        "※ 본 문서 자체가 구글 드라이브에서 생성하고 작성한 문서입니다."
      ]
    },
    {
      "metadata": {
        "id": "B-vGPr5kNuR6",
        "colab_type": "text"
      },
      "cell_type": "markdown",
      "source": [
        "\n",
        "---\n",
        "\n",
        "\n",
        "### 2018 http://financedata.kr"
      ]
    }
  ]
}